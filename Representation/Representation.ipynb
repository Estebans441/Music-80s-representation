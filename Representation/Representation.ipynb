{
 "cells": [
  {
   "cell_type": "markdown",
   "id": "59368fa7",
   "metadata": {},
   "source": [
    "# Representacion no estructurada de canciones de los 80s"
   ]
  },
  {
   "cell_type": "markdown",
   "id": "202756a9",
   "metadata": {},
   "source": [
    "## Importacion de datos"
   ]
  },
  {
   "cell_type": "code",
   "execution_count": null,
   "id": "fba0f2c2",
   "metadata": {},
   "outputs": [],
   "source": [
    "%pip install scikit-learn matplotlib pandas seaborn nltk pyLDAvis spacy"
   ]
  },
  {
   "cell_type": "code",
   "execution_count": 29,
   "id": "099c92d5",
   "metadata": {},
   "outputs": [
    {
     "data": {
      "text/html": [
       "<div>\n",
       "<style scoped>\n",
       "    .dataframe tbody tr th:only-of-type {\n",
       "        vertical-align: middle;\n",
       "    }\n",
       "\n",
       "    .dataframe tbody tr th {\n",
       "        vertical-align: top;\n",
       "    }\n",
       "\n",
       "    .dataframe thead th {\n",
       "        text-align: right;\n",
       "    }\n",
       "</style>\n",
       "<table border=\"1\" class=\"dataframe\">\n",
       "  <thead>\n",
       "    <tr style=\"text-align: right;\">\n",
       "      <th></th>\n",
       "      <th>Cancion</th>\n",
       "      <th>Artista</th>\n",
       "      <th>Letra</th>\n",
       "    </tr>\n",
       "  </thead>\n",
       "  <tbody>\n",
       "    <tr>\n",
       "      <th>0</th>\n",
       "      <td>A esa</td>\n",
       "      <td>Pimpinela</td>\n",
       "      <td>L VEN AQUI, QUIERO DECIRTE ALGO...\\n\\nA esa, q...</td>\n",
       "    </tr>\n",
       "    <tr>\n",
       "      <th>1</th>\n",
       "      <td>A quién le importa</td>\n",
       "      <td>Alaska y Dinarama</td>\n",
       "      <td>La gente me señala\\n\\nme apuntan con el dedo\\n...</td>\n",
       "    </tr>\n",
       "    <tr>\n",
       "      <th>2</th>\n",
       "      <td>Amante Bandido</td>\n",
       "      <td>Miguel Bosé</td>\n",
       "      <td>Yo seré el viento que va\\n\\nnavegare por tu os...</td>\n",
       "    </tr>\n",
       "    <tr>\n",
       "      <th>3</th>\n",
       "      <td>Amor Eterno</td>\n",
       "      <td>Rocío Dúrcal</td>\n",
       "      <td>Tu eres la tristeza de mis ojos \\nque lloran e...</td>\n",
       "    </tr>\n",
       "    <tr>\n",
       "      <th>4</th>\n",
       "      <td>Ausencia</td>\n",
       "      <td>Héctor Lavoe</td>\n",
       "      <td>Ha terminado otro capítulo en mi vida \\nLa muj...</td>\n",
       "    </tr>\n",
       "  </tbody>\n",
       "</table>\n",
       "</div>"
      ],
      "text/plain": [
       "              Cancion            Artista  \\\n",
       "0               A esa          Pimpinela   \n",
       "1  A quién le importa  Alaska y Dinarama   \n",
       "2      Amante Bandido        Miguel Bosé   \n",
       "3         Amor Eterno       Rocío Dúrcal   \n",
       "4            Ausencia       Héctor Lavoe   \n",
       "\n",
       "                                               Letra  \n",
       "0  L VEN AQUI, QUIERO DECIRTE ALGO...\\n\\nA esa, q...  \n",
       "1  La gente me señala\\n\\nme apuntan con el dedo\\n...  \n",
       "2  Yo seré el viento que va\\n\\nnavegare por tu os...  \n",
       "3  Tu eres la tristeza de mis ojos \\nque lloran e...  \n",
       "4  Ha terminado otro capítulo en mi vida \\nLa muj...  "
      ]
     },
     "execution_count": 29,
     "metadata": {},
     "output_type": "execute_result"
    }
   ],
   "source": [
    "# Importacion de las letras desde el directorio de letras\n",
    "import os\n",
    "import pandas as pd\n",
    "\n",
    "# Crear dataframe con las letras: Cancion, Letra y Artista\n",
    "canciones = []\n",
    "for file in os.listdir('letras'):\n",
    "    with open(f'letras/{file}', encoding='utf-8') as f:\n",
    "        cancion = ' '.join(file.split('.')[0:-1]).strip()\n",
    "        nombre = ' '.join(cancion.split('-')[0:-1]).strip()\n",
    "        artista = cancion.split('-')[-1].strip()\n",
    "        letras = f.read()\n",
    "        canciones.append([nombre, artista, letras])\n",
    "\n",
    "canciones = pd.DataFrame(canciones, columns=['Cancion', 'Artista', 'Letra'])\n",
    "\n",
    "canciones.to_csv('canciones.csv', index=False)\n",
    "\n",
    "canciones.head()"
   ]
  },
  {
   "cell_type": "markdown",
   "id": "01bca839",
   "metadata": {},
   "source": [
    "## Representacion TF-IDF"
   ]
  },
  {
   "cell_type": "markdown",
   "id": "0e2f7c96",
   "metadata": {},
   "source": [
    "### Entendimiento y preprocesamiento de datos"
   ]
  },
  {
   "cell_type": "code",
   "execution_count": 30,
   "id": "7b227835",
   "metadata": {},
   "outputs": [
    {
     "data": {
      "text/plain": [
       "105"
      ]
     },
     "execution_count": 30,
     "metadata": {},
     "output_type": "execute_result"
    }
   ],
   "source": [
    "letras = canciones['Letra'].values.tolist()\n",
    "len(letras)"
   ]
  },
  {
   "cell_type": "markdown",
   "id": "b222ed60",
   "metadata": {},
   "source": [
    "Importacion de la libreria de stopwords y definicion de una funcion para filtrar las canciones."
   ]
  },
  {
   "cell_type": "code",
   "execution_count": 31,
   "id": "e7369eb5",
   "metadata": {},
   "outputs": [
    {
     "name": "stderr",
     "output_type": "stream",
     "text": [
      "[nltk_data] Downloading package stopwords to\n",
      "[nltk_data]     C:\\Users\\esteb\\AppData\\Roaming\\nltk_data...\n",
      "[nltk_data]   Package stopwords is already up-to-date!\n"
     ]
    }
   ],
   "source": [
    "import nltk\n",
    "from nltk.corpus import stopwords\n",
    "nltk.download('stopwords')\n",
    "misstop=stopwords.words('spanish')+[\"á\",\"Y\"]"
   ]
  },
  {
   "cell_type": "code",
   "execution_count": 32,
   "id": "70725aa1",
   "metadata": {},
   "outputs": [],
   "source": [
    "def filtrado(texto):\n",
    "    filtrados=[word for word in texto if word not in misstop]\n",
    "    return(filtrados)"
   ]
  },
  {
   "cell_type": "markdown",
   "id": "b7292feb",
   "metadata": {},
   "source": [
    "La limpieza incluira:\n",
    "\n",
    "**a)** pasar a minúsculas\n",
    "\n",
    "**b)** retirar páginas web\n",
    "\n",
    "**c)** quitar saltos de línea y tabuladores\n",
    "\n",
    "**d)** retirar stopwords\n",
    "\n",
    "**e)** retirar menciones\n",
    "\n",
    "**f)** unir todo de nuevo\n",
    "\n",
    "**g)** eliminar letras solas\n"
   ]
  },
  {
   "cell_type": "code",
   "execution_count": 33,
   "id": "192e4237",
   "metadata": {},
   "outputs": [
    {
     "name": "stderr",
     "output_type": "stream",
     "text": [
      "[nltk_data] Downloading package punkt to\n",
      "[nltk_data]     C:\\Users\\esteb\\AppData\\Roaming\\nltk_data...\n",
      "[nltk_data]   Package punkt is already up-to-date!\n",
      "[nltk_data] Downloading package punkt_tab to\n",
      "[nltk_data]     C:\\Users\\esteb\\AppData\\Roaming\\nltk_data...\n",
      "[nltk_data]   Package punkt_tab is already up-to-date!\n"
     ]
    }
   ],
   "source": [
    "import re\n",
    "nltk.download(\"punkt\")\n",
    "nltk.download('punkt_tab')\n",
    "filtradito=[]\n",
    "# Eliminar menciones y páginas web\n",
    "for i in range(len(letras)):\n",
    "    letras[i] = re.sub(\"\\\"\",\" \",letras[i])\n",
    "    letras[i] = re.sub (\"\\n|\\t\",\" \",letras[i])\n",
    "    letras[i]=letras[i].lower()\n",
    "    letras[i] = re.sub(r'\\s+[a-zA-Z]\\s+', ' ', letras[i])\n",
    "    letras[i] = re.sub(r'\\xad+', ' ', letras[i], flags=re.I)\n",
    "    breve=nltk.tokenize.word_tokenize(letras[i],language=\"spanish\")\n",
    "    tempfilt=filtrado(breve)\n",
    "    filtradito.append(tempfilt)\n",
    "    \n",
    "unidito=[]\n",
    "for element in filtradito:\n",
    "    unidito.append(\" \".join(element))"
   ]
  },
  {
   "cell_type": "code",
   "execution_count": 34,
   "id": "6f248c08",
   "metadata": {},
   "outputs": [
    {
     "data": {
      "text/plain": [
       "'l ven aqui , quiero decirte ... , aparta , roba tiempo , alma cuerpo , ve dile ... quieres ? venga , valor , muestre cara hable frente si quiere amor ... ? , contigo va vestida princesa , , hace preguntas siempre está¡ dispuesta , , vete dile ... ? venga ... ? doy lugar ... quieres probar ? recoja mesa , lave ropa todas miserias ... quieres demostrar ? venga , juegue ... vas conseguir ? quiero ver si capaz darte cosas di ... , ... vete dile , venga ... , pone tan mal capaz hacerme volver vivir ilusiones perdidas . , hace hablar debo cosas hace tiempo das ... , puede costar hacerte feliz hora día ? , toca vivir ninguna tristeza , alegrí a. vete dile .. ? venga ... ? doy lugar ... quieres probar ? recoja mesa , lave ropa todas miserias ... quieres demostrar ? venga , juegue ... vas conseguir ? quiero ver si capaz darte cosas di ... venga ... ... doy lugar ... quieres probar ... recoja mesa lave ropa todas miserias quieres demostrar ... venga juegue ... vas conseguir ... quiero ver si capaz darte cosas to di ... , ... vete dile , venga ...'"
      ]
     },
     "execution_count": 34,
     "metadata": {},
     "output_type": "execute_result"
    }
   ],
   "source": [
    "unidito[0]"
   ]
  },
  {
   "cell_type": "markdown",
   "id": "9d8464f0",
   "metadata": {},
   "source": [
    "### Determinacion de Topicos"
   ]
  },
  {
   "cell_type": "markdown",
   "id": "598af88b",
   "metadata": {},
   "source": [
    "Importacion de librerias para topicos de sklearn"
   ]
  },
  {
   "cell_type": "code",
   "execution_count": 35,
   "id": "aee177f1",
   "metadata": {},
   "outputs": [],
   "source": [
    "from sklearn.feature_extraction.text import TfidfVectorizer, CountVectorizer\n",
    "from sklearn.decomposition import NMF, LatentDirichletAllocation"
   ]
  },
  {
   "cell_type": "markdown",
   "id": "a5ae2733",
   "metadata": {},
   "source": [
    "Estraccion de topicos"
   ]
  },
  {
   "cell_type": "code",
   "execution_count": 36,
   "id": "79217b15",
   "metadata": {},
   "outputs": [],
   "source": [
    "def display_topics(model, feature_names, no_top_words):\n",
    "    for topic_idx, topic in enumerate(model.components_):\n",
    "        print (\"Topic %d:\" % (topic_idx))\n",
    "        print (\" \".join([feature_names[i]\n",
    "                        for i in topic.argsort()[:-no_top_words - 1:-1]]))"
   ]
  },
  {
   "cell_type": "code",
   "execution_count": 37,
   "id": "7507af44",
   "metadata": {},
   "outputs": [
    {
     "name": "stdout",
     "output_type": "stream",
     "text": [
      "Topic 0:\n",
      "si quiero voy amor sé vos vez noche siempre nadie\n",
      "Topic 1:\n",
      "vida pido why toda asi así amor ahora prefiero nunca\n",
      "Topic 2:\n",
      "oh bajo parte playa calienta cerca aquí luna sol busco\n",
      "Topic 3:\n",
      "desaparecer ayer amor muralla parado divide mirando vuelve viene realidad\n",
      "Topic 4:\n",
      "sacarla ayudarla puedo aca pozo escucho abajo mas ciego mirarla\n"
     ]
    }
   ],
   "source": [
    "vectores=TfidfVectorizer(max_df=0.9,min_df=2,max_features=1000)\n",
    "tfslimpio=vectores.fit_transform(unidito)\n",
    "nombreslimpio=vectores.get_feature_names_out()\n",
    "nmflimpio = NMF(n_components=5, random_state=1, l1_ratio=.5, init='nndsvd').fit(tfslimpio)\n",
    "no_top_words=10\n",
    "display_topics(nmflimpio, nombreslimpio, no_top_words)"
   ]
  },
  {
   "cell_type": "code",
   "execution_count": 14,
   "id": "246cfc91",
   "metadata": {},
   "outputs": [
    {
     "data": {
      "text/plain": [
       "790"
      ]
     },
     "execution_count": 38,
     "metadata": {},
     "output_type": "execute_result"
    }
   ],
   "source": [
    "len(nombreslimpio)"
   ]
  },
  {
   "cell_type": "markdown",
   "id": "03480d20",
   "metadata": {},
   "source": [
    "Utilizacion de conteos para LDA (Latent Dirilchet Allocation)"
   ]
  },
  {
   "cell_type": "code",
   "execution_count": 15,
   "id": "5a06a98d",
   "metadata": {},
   "outputs": [
    {
     "name": "stdout",
     "output_type": "stream",
     "text": [
      "Topic 0:\n",
      "vida mundo ay solo toda tan así oh si llorar\n",
      "Topic 1:\n",
      "amor eu debajo um rock não ayer desaparecer corazón dia\n",
      "Topic 2:\n",
      "oh nadie vete bis puede verás jamás hombre luna lleva\n",
      "Topic 3:\n",
      "na quiero amor noches vida cinco pido luna noche vez\n",
      "Topic 4:\n",
      "amo je lluvia si nadie fríos besos días gota non\n",
      "Topic 5:\n",
      "importa asi si pasa siempre nunca amor ahora manos primavera\n",
      "Topic 6:\n",
      "si amor sé ahora quiero puedo nunca siempre vida gente\n",
      "Topic 7:\n",
      "si ven mas quiero voy nene van solo amor ser\n"
     ]
    }
   ],
   "source": [
    "paralda = CountVectorizer(max_df=0.9, min_df=2, max_features=1000)\n",
    "tflda=paralda.fit_transform(unidito)\n",
    "nombreslda=paralda.get_feature_names_out()\n",
    "lda = LatentDirichletAllocation(n_components=8, max_iter=3, learning_method='online', learning_offset=50.,random_state=0).fit(tflda)\n",
    "id_topico=lda.fit_transform(tflda)\n",
    "display_topics(lda,nombreslda,no_top_words)"
   ]
  },
  {
   "cell_type": "markdown",
   "id": "25596111",
   "metadata": {},
   "source": [
    "Pertenencia de cada documento a su topico"
   ]
  },
  {
   "cell_type": "code",
   "execution_count": 16,
   "id": "a90fff00",
   "metadata": {},
   "outputs": [],
   "source": [
    "doc_topic = nmflimpio.transform(tfslimpio)\n",
    "topic_most_pr=[]\n",
    "for n in range(doc_topic.shape[0]):\n",
    "    topic_most_pr.append(doc_topic[n].argmax())"
   ]
  },
  {
   "cell_type": "code",
   "execution_count": 17,
   "id": "76e1929a",
   "metadata": {},
   "outputs": [
    {
     "data": {
      "text/html": [
       "<div>\n",
       "<style scoped>\n",
       "    .dataframe tbody tr th:only-of-type {\n",
       "        vertical-align: middle;\n",
       "    }\n",
       "\n",
       "    .dataframe tbody tr th {\n",
       "        vertical-align: top;\n",
       "    }\n",
       "\n",
       "    .dataframe thead th {\n",
       "        text-align: right;\n",
       "    }\n",
       "</style>\n",
       "<table border=\"1\" class=\"dataframe\">\n",
       "  <thead>\n",
       "    <tr style=\"text-align: right;\">\n",
       "      <th></th>\n",
       "      <th>Cancion</th>\n",
       "      <th>nmf</th>\n",
       "    </tr>\n",
       "  </thead>\n",
       "  <tbody>\n",
       "    <tr>\n",
       "      <th>0</th>\n",
       "      <td>A esa</td>\n",
       "      <td>0</td>\n",
       "    </tr>\n",
       "    <tr>\n",
       "      <th>1</th>\n",
       "      <td>A quién le importa</td>\n",
       "      <td>1</td>\n",
       "    </tr>\n",
       "    <tr>\n",
       "      <th>2</th>\n",
       "      <td>Amante Bandido</td>\n",
       "      <td>0</td>\n",
       "    </tr>\n",
       "    <tr>\n",
       "      <th>3</th>\n",
       "      <td>Amor Eterno</td>\n",
       "      <td>0</td>\n",
       "    </tr>\n",
       "    <tr>\n",
       "      <th>4</th>\n",
       "      <td>Ausencia</td>\n",
       "      <td>0</td>\n",
       "    </tr>\n",
       "    <tr>\n",
       "      <th>...</th>\n",
       "      <td>...</td>\n",
       "      <td>...</td>\n",
       "    </tr>\n",
       "    <tr>\n",
       "      <th>100</th>\n",
       "      <td>Y cómo es él</td>\n",
       "      <td>1</td>\n",
       "    </tr>\n",
       "    <tr>\n",
       "      <th>101</th>\n",
       "      <td>Yo No Te Pido La Luna</td>\n",
       "      <td>1</td>\n",
       "    </tr>\n",
       "    <tr>\n",
       "      <th>102</th>\n",
       "      <td>Yo te avisé</td>\n",
       "      <td>0</td>\n",
       "    </tr>\n",
       "    <tr>\n",
       "      <th>103</th>\n",
       "      <td>Ámame en cámara lenta</td>\n",
       "      <td>1</td>\n",
       "    </tr>\n",
       "    <tr>\n",
       "      <th>104</th>\n",
       "      <td>Él Me Mintió</td>\n",
       "      <td>0</td>\n",
       "    </tr>\n",
       "  </tbody>\n",
       "</table>\n",
       "<p>105 rows × 2 columns</p>\n",
       "</div>"
      ],
      "text/plain": [
       "                   Cancion  nmf\n",
       "0                    A esa    0\n",
       "1       A quién le importa    1\n",
       "2           Amante Bandido    0\n",
       "3              Amor Eterno    0\n",
       "4                 Ausencia    0\n",
       "..                     ...  ...\n",
       "100           Y cómo es él    1\n",
       "101  Yo No Te Pido La Luna    1\n",
       "102            Yo te avisé    0\n",
       "103  Ámame en cámara lenta    1\n",
       "104           Él Me Mintió    0\n",
       "\n",
       "[105 rows x 2 columns]"
      ]
     },
     "metadata": {},
     "output_type": "display_data"
    }
   ],
   "source": [
    "canciones[\"nmf\"]=topic_most_pr\n",
    "ver_cerveza=canciones[[\"Cancion\",\"nmf\"]]\n",
    "display(ver_cerveza)"
   ]
  },
  {
   "cell_type": "markdown",
   "id": "cc352392",
   "metadata": {},
   "source": [
    "### Visualizacion de resultados"
   ]
  },
  {
   "cell_type": "markdown",
   "id": "17bbdc9f",
   "metadata": {},
   "source": [
    "Gensim y pyLDAvis para ver los resultados de LDA"
   ]
  },
  {
   "cell_type": "code",
   "execution_count": null,
   "id": "b42f6431",
   "metadata": {},
   "outputs": [],
   "source": [
    "%pip install --upgrade numpy==2.0.0\n",
    "%pip install --upgrade scipy==1.9.3\n",
    "%pip install --upgrade gensim"
   ]
  },
  {
   "cell_type": "code",
   "execution_count": 19,
   "id": "741a2395",
   "metadata": {},
   "outputs": [],
   "source": [
    "import gensim\n",
    "from gensim.corpora import Dictionary\n",
    "from gensim.utils import simple_preprocess\n",
    "from gensim.models import CoherenceModel\n",
    "\n",
    "import pyLDAvis\n",
    "import pyLDAvis.gensim\n",
    "import matplotlib.pyplot as plt"
   ]
  },
  {
   "cell_type": "code",
   "execution_count": 20,
   "id": "f9b7591b",
   "metadata": {},
   "outputs": [
    {
     "name": "stdout",
     "output_type": "stream",
     "text": [
      "\u001b[38;5;2m✔ Download and installation successful\u001b[0m\n",
      "You can now load the package via spacy.load('es_core_news_sm')\n",
      "\u001b[38;5;3m⚠ Restart to reload dependencies\u001b[0m\n",
      "If you are in a Jupyter or Colab notebook, you may need to restart Python in\n",
      "order to load all the package's dependencies. You can do this by selecting the\n",
      "'Restart kernel' or 'Restart runtime' option.\n"
     ]
    }
   ],
   "source": [
    "import spacy\n",
    "spacy.cli.download(\"es_core_news_sm\")\n",
    "nlp=spacy.load(\"es_core_news_sm\")"
   ]
  },
  {
   "cell_type": "code",
   "execution_count": 21,
   "id": "8443aca5",
   "metadata": {},
   "outputs": [
    {
     "data": {
      "text/plain": [
       "[['ver',\n",
       "  'aqui',\n",
       "  'querer',\n",
       "  'decir tú',\n",
       "  'apartar',\n",
       "  'robar',\n",
       "  'tiempo',\n",
       "  'alma',\n",
       "  'cuerpo',\n",
       "  'ver',\n",
       "  'dile',\n",
       "  'quier',\n",
       "  'venir',\n",
       "  'tener',\n",
       "  'valor',\n",
       "  'mostrar',\n",
       "  'cara',\n",
       "  'hablar',\n",
       "  'frente',\n",
       "  'querer',\n",
       "  'amor',\n",
       "  'estar',\n",
       "  'vestido',\n",
       "  'princesa',\n",
       "  'no',\n",
       "  'hacer',\n",
       "  'pregunta',\n",
       "  'siempre',\n",
       "  'dispuesto',\n",
       "  'vete',\n",
       "  'dile',\n",
       "  'venir',\n",
       "  'dar',\n",
       "  'lugar',\n",
       "  'querer',\n",
       "  'probar',\n",
       "  'recojar',\n",
       "  'mesa',\n",
       "  'lave',\n",
       "  'ropar',\n",
       "  'miseria',\n",
       "  'querer',\n",
       "  'demostrar',\n",
       "  'venir',\n",
       "  'jugar',\n",
       "  'ir',\n",
       "  'conseguir',\n",
       "  'querer',\n",
       "  'ver',\n",
       "  'capaz',\n",
       "  'darte',\n",
       "  'cosa',\n",
       "  'dar',\n",
       "  'vete',\n",
       "  'dile',\n",
       "  'venir',\n",
       "  'poner',\n",
       "  'tanto',\n",
       "  'mal',\n",
       "  'capaz',\n",
       "  'hacer yo',\n",
       "  'volver',\n",
       "  'vivir',\n",
       "  'ilusión',\n",
       "  'perdido',\n",
       "  'hacer',\n",
       "  'hablar',\n",
       "  'deber',\n",
       "  'cosa',\n",
       "  'hacer',\n",
       "  'tiempo',\n",
       "  'ya',\n",
       "  'no',\n",
       "  'dar',\n",
       "  'costar',\n",
       "  'hacerte',\n",
       "  'feliz',\n",
       "  'hora',\n",
       "  'día',\n",
       "  'no',\n",
       "  'tocar',\n",
       "  'vivir',\n",
       "  'tristeza',\n",
       "  'alegrí',\n",
       "  'a.',\n",
       "  'vete',\n",
       "  'dile',\n",
       "  'venir',\n",
       "  'dar',\n",
       "  'lugar',\n",
       "  'querer',\n",
       "  'probar',\n",
       "  'recojar',\n",
       "  'mesa',\n",
       "  'lave',\n",
       "  'ropar',\n",
       "  'miseria',\n",
       "  'querer',\n",
       "  'demostrar',\n",
       "  'venir',\n",
       "  'jugar',\n",
       "  'ir',\n",
       "  'conseguir',\n",
       "  'querer',\n",
       "  'ver',\n",
       "  'capaz',\n",
       "  'darte',\n",
       "  'cosa',\n",
       "  'dar',\n",
       "  'venir',\n",
       "  'dar',\n",
       "  'lugar',\n",
       "  'querer',\n",
       "  'probar',\n",
       "  'recojar',\n",
       "  'mesa',\n",
       "  'lave',\n",
       "  'ropar',\n",
       "  'miseria',\n",
       "  'querer',\n",
       "  'demostrar',\n",
       "  'venir',\n",
       "  'jugar',\n",
       "  'ir',\n",
       "  'conseguir',\n",
       "  'querer',\n",
       "  'ver',\n",
       "  'capaz',\n",
       "  'darte',\n",
       "  'cosa',\n",
       "  'dar',\n",
       "  'vete',\n",
       "  'dile',\n",
       "  'venir'],\n",
       " ['gente',\n",
       "  'señalar',\n",
       "  'apuntar',\n",
       "  'dedo',\n",
       "  'susurra',\n",
       "  'espalda',\n",
       "  'importar',\n",
       "  'bledo',\n",
       "  'mas',\n",
       "  'dar',\n",
       "  'distinto',\n",
       "  'no',\n",
       "  'no',\n",
       "  'tener',\n",
       "  'dueño',\n",
       "  'criticar',\n",
       "  'constar',\n",
       "  'odiar',\n",
       "  'envidia',\n",
       "  'corroir',\n",
       "  'vida',\n",
       "  'agobiar',\n",
       "  'serar',\n",
       "  'no',\n",
       "  'tener',\n",
       "  'culpa',\n",
       "  'circunstancia',\n",
       "  'insultar',\n",
       "  'destino',\n",
       "  'decido',\n",
       "  'elijo',\n",
       "  'importar',\n",
       "  'hacer',\n",
       "  'importar',\n",
       "  'decir',\n",
       "  'asi',\n",
       "  'seguire',\n",
       "  'nunca',\n",
       "  'cambiare',\n",
       "  'importar',\n",
       "  'hacer',\n",
       "  'importar',\n",
       "  'decir',\n",
       "  'asi',\n",
       "  'seguire',\n",
       "  'nunca',\n",
       "  'quizar',\n",
       "  'culpa',\n",
       "  'mia',\n",
       "  'no',\n",
       "  'seguir',\n",
       "  'norma',\n",
       "  'ya',\n",
       "  'demasiado',\n",
       "  'tarde',\n",
       "  'cambiar',\n",
       "  'ahora',\n",
       "  'mantendre',\n",
       "  'firme',\n",
       "  'convicción',\n",
       "  'reforzarar',\n",
       "  'posición',\n",
       "  'destino',\n",
       "  'decido',\n",
       "  'elijo',\n",
       "  'importar',\n",
       "  'hacer',\n",
       "  'importar',\n",
       "  'decir',\n",
       "  'asi',\n",
       "  'seguire',\n",
       "  'nunca',\n",
       "  'cambiare',\n",
       "  'importar',\n",
       "  'hacer',\n",
       "  'importar',\n",
       "  'decir',\n",
       "  'asi',\n",
       "  'seguire',\n",
       "  'nunca',\n",
       "  'cambiare',\n",
       "  'importar',\n",
       "  'hacer',\n",
       "  'importar',\n",
       "  'decir',\n",
       "  'asi',\n",
       "  'seguire',\n",
       "  'nunca',\n",
       "  'cambiare']]"
      ]
     },
     "execution_count": 21,
     "metadata": {},
     "output_type": "execute_result"
    }
   ],
   "source": [
    "preparado = []\n",
    "for texto in letras:\n",
    "  doc = nlp(texto) \n",
    "  preparado.append([token.lemma_ for token in doc if token.pos_ in ['NOUN', 'ADJ', 'VERB', 'ADV'] and token.text!=\"cerveza\" ])\n",
    "preparado[0:2]"
   ]
  },
  {
   "cell_type": "markdown",
   "id": "50859749",
   "metadata": {},
   "source": [
    "Preparacion del conteo y definicion de un diccionario a gensim"
   ]
  },
  {
   "cell_type": "code",
   "execution_count": 22,
   "id": "f1b6d2a6",
   "metadata": {},
   "outputs": [],
   "source": [
    "id2word=Dictionary(preparado)\n",
    "corpus = [id2word.doc2bow(element) for element in preparado]"
   ]
  },
  {
   "cell_type": "markdown",
   "id": "a370ec52",
   "metadata": {},
   "source": [
    "Tecnica basada en PMI que calcula la coherencia del numero de topicos."
   ]
  },
  {
   "cell_type": "code",
   "execution_count": 23,
   "id": "c084c255",
   "metadata": {},
   "outputs": [
    {
     "name": "stderr",
     "output_type": "stream",
     "text": [
      "c:\\Users\\esteb\\Documents\\Trabajos U\\FAM\\Music-80s-representation\\.venv\\Lib\\site-packages\\scipy\\sparse\\_sputils.py:44: DeprecationWarning: np.find_common_type is deprecated.  Please use `np.result_type` or `np.promote_types`.\n",
      "See https://numpy.org/devdocs/release/1.25.0-notes.html and the docs for more information.  (Deprecated NumPy 1.25)\n",
      "  upcast = np.find_common_type(args, [])\n",
      "c:\\Users\\esteb\\Documents\\Trabajos U\\FAM\\Music-80s-representation\\.venv\\Lib\\site-packages\\scipy\\sparse\\_sputils.py:44: DeprecationWarning: np.find_common_type is deprecated.  Please use `np.result_type` or `np.promote_types`.\n",
      "See https://numpy.org/devdocs/release/1.25.0-notes.html and the docs for more information.  (Deprecated NumPy 1.25)\n",
      "  upcast = np.find_common_type(args, [])\n",
      "c:\\Users\\esteb\\Documents\\Trabajos U\\FAM\\Music-80s-representation\\.venv\\Lib\\site-packages\\scipy\\sparse\\_sputils.py:44: DeprecationWarning: np.find_common_type is deprecated.  Please use `np.result_type` or `np.promote_types`.\n",
      "See https://numpy.org/devdocs/release/1.25.0-notes.html and the docs for more information.  (Deprecated NumPy 1.25)\n",
      "  upcast = np.find_common_type(args, [])\n"
     ]
    },
    {
     "name": "stdout",
     "output_type": "stream",
     "text": [
      "[0.2557710542554721, 0.29580164197489833, 0.4040402440152573, 0.35672570090001116, 0.39362951266096946, 0.37092142977304937, 0.37964277764752935, 0.37810276174314733, 0.38052115590623664]\n"
     ]
    }
   ],
   "source": [
    "coherencias=[]\n",
    "for topicos in range(1,10):\n",
    "  modelito=gensim.models.ldamodel.LdaModel(corpus=corpus,id2word=id2word,num_topics=topicos,random_state=100,update_every=1,chunksize=40,passes=10,alpha='auto',per_word_topics=True)\n",
    "  coherence_model_lda = CoherenceModel(model=modelito, texts=preparado, dictionary=id2word, coherence='c_v')\n",
    "  coherencias.append(coherence_model_lda.get_coherence())\n",
    "print(coherencias)"
   ]
  },
  {
   "cell_type": "markdown",
   "id": "375dc4d2",
   "metadata": {},
   "source": [
    "El resultado sugiere tres topicos"
   ]
  },
  {
   "cell_type": "code",
   "execution_count": 24,
   "id": "c07f8c81",
   "metadata": {},
   "outputs": [],
   "source": [
    "lda_model = gensim.models.ldamodel.LdaModel(corpus=corpus,\n",
    "                                           id2word=id2word,\n",
    "                                           num_topics=3, \n",
    "                                           random_state=100,\n",
    "                                           update_every=1,\n",
    "                                           chunksize=40,\n",
    "                                           passes=10,\n",
    "                                           alpha='auto',\n",
    "                                           per_word_topics=True)"
   ]
  },
  {
   "cell_type": "code",
   "execution_count": 25,
   "id": "02e9ead4",
   "metadata": {},
   "outputs": [],
   "source": [
    "from pprint import pprint"
   ]
  },
  {
   "cell_type": "code",
   "execution_count": 26,
   "id": "5f77184b",
   "metadata": {},
   "outputs": [
    {
     "name": "stdout",
     "output_type": "stream",
     "text": [
      "[(0,\n",
      "  '0.067*\"no\" + 0.018*\"vida\" + 0.014*\"tener\" + 0.014*\"amor\" + 0.013*\"más\" + '\n",
      "  '0.011*\"amar\" + 0.010*\"saber\" + 0.010*\"siempre\" + 0.009*\"nunca\" + '\n",
      "  '0.009*\"ahora\"'),\n",
      " (1,\n",
      "  '0.036*\"no\" + 0.025*\"querer\" + 0.011*\"amor\" + 0.010*\"pedir\" + 0.009*\"ver\" + '\n",
      "  '0.009*\"noche\" + 0.007*\"más\" + 0.007*\"bastar\" + 0.007*\"ya\" + 0.007*\"ir\"'),\n",
      " (2,\n",
      "  '0.017*\"no\" + 0.011*\"ir\" + 0.008*\"amor\" + 0.008*\"signo\" + 0.007*\"querer\" + '\n",
      "  '0.006*\"eu\" + 0.005*\"agüita\" + 0.005*\"amarillo\" + 0.005*\"dar\" + '\n",
      "  '0.005*\"creer\"')]\n"
     ]
    }
   ],
   "source": [
    "pprint(lda_model.print_topics())\n",
    "doc_lda = lda_model[corpus]"
   ]
  },
  {
   "cell_type": "code",
   "execution_count": 27,
   "id": "a67ecead",
   "metadata": {},
   "outputs": [
    {
     "data": {
      "text/html": [
       "\n",
       "<link rel=\"stylesheet\" type=\"text/css\" href=\"https://cdn.jsdelivr.net/gh/bmabey/pyLDAvis@3.4.0/pyLDAvis/js/ldavis.v1.0.0.css\">\n",
       "\n",
       "\n",
       "<div id=\"ldavis_el773618798160789448201181375\" style=\"background-color:white;\"></div>\n",
       "<script type=\"text/javascript\">\n",
       "\n",
       "var ldavis_el773618798160789448201181375_data = {\"mdsDat\": {\"x\": [0.13775624516173487, -0.02700586761924637, -0.11075037754248854], \"y\": [0.042504896589273075, -0.12613063601988983, 0.08362573943061674], \"topics\": [1, 2, 3], \"cluster\": [1, 1, 1], \"Freq\": [49.37910021294571, 27.17836883790866, 23.442530949145628]}, \"tinfo\": {\"Term\": [\"querer\", \"vida\", \"signo\", \"pedir\", \"bastar\", \"rock\", \"perch\\u00e9\", \"lluvia\", \"ma\\u00f1ana\", \"eu\", \"gana\", \"ag\\u00fcita\", \"amarillo\", \"ahora\", \"tener\", \"noche\", \"desaparecer\", \"c\\u00e1mara\", \"lento\", \"\\u00e1mame\", \"sar\\u00e0\", \"nunca\", \"negra\", \"ir\", \"verter\", \"caer\", \"no\", \"amarno\", \"luna\", \"fr\\u00edo\", \"ma\\u00f1ana\", \"gana\", \"verter\", \"llamar\\u00e1s\", \"morir\", \"mintiir\", \"devu\\u00e9lveme\", \"forma\", \"perd\\u00f3n\", \"seguir\", \"entonces\", \"vendr\\u00e1s\", \"tarde\", \"carnaval\", \"caminar\", \"silencio\", \"cerrar\", \"flor\", \"a\\u00f1o\", \"jama\", \"palabra\", \"fiesta\", \"querido\", \"or\", \"m\\u00fasica\", \"ahora\", \"jam\\u00e1s\", \"sufrir\", \"libre\", \"nacer\", \"nuevo\", \"vida\", \"tener\", \"robar\", \"nunca\", \"esperar\", \"llorar\", \"no\", \"nada\", \"siempre\", \"\\ufffd\", \"amar\", \"tiempo\", \"vivir\", \"saber\", \"m\\u00e1s\", \"solo\", \"amor\", \"decir\", \"hacer\", \"d\\u00eda\", \"ver\", \"ya\", \"mas\", \"querer\", \"tanto\", \"ir\", \"volver\", \"pedir\", \"rock\", \"perch\\u00e9\", \"c\\u00e1mara\", \"lento\", \"\\u00e1mame\", \"sar\\u00e0\", \"amarno\", \"bastar\", \"fr\\u00edo\", \"puente\", \"rockin\", \"pelado\", \"che\", \"confusionir\", \"matto\", \"mondo\", \"vola\", \"volo\", \"esclavitud\", \"canzone\", \"pi\\u00f9\", \"dar \\u00e9l\", \"juanito\", \"primavera\", \"atracar\", \"vuelvo\", \"claridad\", \"ahh\", \"cambiar yo\", \"parez\", \"lluvia\", \"il\", \"querer\", \"junto\", \"avisar\", \"pedir\", \"dentro\", \"noche\", \"vo\", \"no\", \"vez\", \"beso\", \"sue\\u00f1o\", \"s\\u00f3lo\", \"ver\", \"amor\", \"tanto\", \"ya\", \"luna\", \"ir\", \"m\\u00e1s\", \"hacer\", \"as\\u00ed\", \"pensar\", \"solo\", \"amar\", \"signo\", \"eu\", \"ag\\u00fcita\", \"desaparecer\", \"negra\", \"parte\", \"amarillo\", \"muralla\", \"ayudar \\u00e9l\", \"sacar \\u00e9l\", \"maas\", \"chorar\", \"personal\", \"hostil\", \"inseguro\", \"pra\", \"lindo\", \"persiana\", \"dividir\", \"parado\", \"resto\", \"amante\", \"carajo\", \"americano\", \"nenir\", \"enga\\u00f1ar\", \"definir\", \"fisura\", \"ocultar\", \"escribir\", \"caer\", \"jugar\", \"gente\", \"poner\", \"creer\", \"ir\", \"venir\", \"dar\", \"no\", \"luna\", \"amor\", \"querer\", \"volver\", \"ver\", \"ayer\", \"pasar\", \"m\\u00e1s\", \"tanto\", \"saber\", \"hoy\", \"aqu\\u00ed\", \"hacer\"], \"Freq\": [113.0, 89.0, 17.0, 43.0, 18.0, 17.0, 16.0, 19.0, 31.0, 13.0, 30.0, 12.0, 12.0, 44.0, 74.0, 40.0, 10.0, 11.0, 11.0, 11.0, 11.0, 48.0, 9.0, 63.0, 22.0, 10.0, 432.0, 10.0, 25.0, 10.0, 31.400843877485464, 30.33712091100184, 21.70145824601247, 17.108691970832044, 17.11230131486075, 15.57773404466634, 15.577421114219733, 14.796507442272151, 12.515607443258643, 12.986525189829347, 12.208673765823551, 10.984932644639866, 11.662154577887152, 10.475765005112615, 13.528533496021815, 20.36407441080428, 11.977713001610837, 10.033326057961583, 9.58958962028534, 9.139868121720442, 10.361846614266103, 8.982516262152178, 8.60435365448968, 7.923035419120753, 7.922552718584917, 41.22309834921146, 7.229933862292135, 7.112169300803411, 6.876333101520366, 8.593606515988393, 12.645275602195039, 81.07834578463091, 65.70305538674374, 13.261293023399043, 42.37057810767947, 15.217177499987875, 26.06050060242444, 305.24535168351883, 14.262041398476446, 44.37203015348476, 30.886848168210584, 49.63388962102564, 23.31961094151812, 24.698188770415207, 44.4862646679457, 58.38025302808571, 37.5198624138505, 64.68847953060562, 24.06422361727016, 38.77427497635864, 22.657867357095803, 38.65402879127719, 27.72302342921311, 21.010463115557435, 34.648453082588446, 22.436940590570686, 23.463309879866618, 17.677591007647127, 17.77962336346899, 16.98359559887056, 15.577404250721946, 11.403975211791412, 11.403975211791412, 11.403975211791412, 11.395944485920612, 9.545140447780756, 17.747259747967068, 9.468119764221228, 7.743426477018911, 7.219342525242466, 7.219323192447475, 7.214415591731128, 7.214415591731128, 7.214415591731128, 7.214415591731128, 7.214415591731128, 7.214415591731128, 6.414138058133061, 5.820539233991769, 5.820539233991769, 5.802926471912713, 5.53737764418158, 5.359677036889471, 5.096298754777781, 4.650721475484943, 4.649811955356958, 4.649802581880599, 4.581460858666341, 4.429529695412666, 17.156328849534532, 7.1142342197724036, 63.233513700238646, 8.597902622610786, 5.824391732775427, 25.86269138125609, 11.292243373588985, 22.263442838504087, 12.366340656120688, 90.34096524809955, 16.36112529585819, 11.314107007196968, 11.419152041701604, 11.599320802487563, 22.88934969228667, 26.573934363813414, 17.168744018972376, 17.641011393434813, 12.628256675920333, 17.399479169662932, 18.489667196049854, 16.1076536065737, 11.310050635302495, 11.466939195865677, 11.462081391742489, 11.299265279066617, 16.64360037299969, 12.647544502177562, 11.920471630937884, 10.041657507498355, 9.012212486111281, 6.228993935495288, 11.920405940044546, 6.096881969274122, 6.094769754396024, 6.094769754396024, 5.376901693256692, 5.376901693256692, 5.376895124167358, 5.194076357378595, 5.194076357378595, 4.649832359218963, 4.649826295444194, 4.649807598805321, 4.642690748483996, 4.642690748483996, 4.633786095234748, 4.422348332791442, 4.224537135541975, 3.922741296654977, 7.528795892189644, 3.8080432282858667, 3.558411011854877, 3.558411011854877, 3.37731460975798, 3.38784485996006, 9.035199245633937, 6.246780502838397, 11.234518227040406, 10.025292390024168, 11.482145607938177, 22.930784817757463, 6.983158236462119, 11.680087429002475, 37.280374302547656, 9.60359323744287, 17.505667019419814, 15.279394559162201, 9.557716738793873, 11.43176473526445, 6.975836228427753, 7.735539787646668, 9.414083095195787, 8.023774752233166, 8.33154972570033, 6.718598775149198, 6.380290674458534, 6.212545441118019], \"Total\": [113.0, 89.0, 17.0, 43.0, 18.0, 17.0, 16.0, 19.0, 31.0, 13.0, 30.0, 12.0, 12.0, 44.0, 74.0, 40.0, 10.0, 11.0, 11.0, 11.0, 11.0, 48.0, 9.0, 63.0, 22.0, 10.0, 432.0, 10.0, 25.0, 10.0, 31.94287908337132, 30.906907634486874, 22.23478811331989, 17.641976599819422, 17.656278371843793, 16.111032942861026, 16.111007853999823, 15.420721758575315, 13.049130410279433, 13.557920038334736, 12.797656225354666, 11.518213445896622, 12.234103483744363, 11.009065216483446, 14.240980093354127, 21.460392083009317, 12.638755209938388, 10.590847180678532, 10.132222208103892, 9.673146924683419, 10.974106169497098, 9.515799341789346, 9.137672738773778, 8.456326192402623, 8.45628058380449, 44.2346844284804, 7.763210549250374, 7.645445372225583, 7.409622079404027, 9.290542026710925, 13.671481123025739, 89.38827234523491, 74.88390495095317, 14.439606960125364, 48.94152865676167, 16.699992506859243, 29.831157500228333, 432.86669123416607, 15.656642828584339, 54.63196728276605, 36.99940376416835, 64.03055884473608, 27.57954960784215, 29.78008765762683, 60.56731605503029, 86.28400331933136, 53.469254873435496, 108.76808091383886, 31.193553654455293, 61.094474024050356, 29.91947088896641, 72.97514321882831, 51.030786971152665, 31.769821102354356, 113.16136134198929, 47.62945936177623, 63.793573867287016, 34.75951380263444, 43.93015635350556, 17.540812148370843, 16.14786134232403, 11.961247880849562, 11.961247880849562, 11.961247880849562, 11.962626268900706, 10.102369326083572, 18.84125728670061, 10.11352139791318, 8.300647337657846, 7.776556986453273, 7.776559721593599, 7.777399575430525, 7.777399575430525, 7.777399575430525, 7.777399575430525, 7.777399575430525, 7.777399575430525, 6.977912826350246, 6.382327335832244, 6.382327335832244, 6.383483794044329, 6.095316476034352, 5.91725572048071, 5.6542389653303875, 5.2135291904470575, 5.213606183123302, 5.213606333541298, 5.142578002430495, 4.9867649973491535, 19.85415630631193, 8.52136942745579, 113.16136134198929, 11.061359376066944, 6.865077888420115, 43.93015635350556, 15.693944691311494, 40.6106568645973, 19.40972744333685, 432.86669123416607, 32.33846250203901, 18.623174423253108, 19.28225420084966, 19.886161117882544, 72.97514321882831, 108.76808091383886, 47.62945936177623, 51.030786971152665, 25.54919816980707, 63.793573867287016, 86.28400331933136, 61.094474024050356, 25.702786030812355, 31.48929994456995, 53.469254873435496, 64.03055884473608, 17.159394827540265, 13.162384680785939, 12.435320730189707, 10.56119870479003, 9.52706072300247, 6.743901308509301, 12.918727045913686, 6.618248621600874, 6.618087084780459, 6.618087084780459, 5.891734317544195, 5.891734402376096, 5.89173322289085, 5.709214172614561, 5.709214172614561, 5.164666960724135, 5.164666618702847, 5.1646655008504725, 5.164110683445808, 5.164110683445808, 5.163432206023074, 4.940027302386797, 4.744681701529882, 4.437597642824199, 8.527086251130545, 4.325289517202925, 4.073462064748856, 4.073462064748856, 3.8921621096081287, 3.9055505772315904, 10.561128190698666, 8.13188834713873, 17.251132625651195, 15.604926220992702, 19.19335681591177, 63.793573867287016, 11.009232813148385, 33.0050372810291, 432.86669123416607, 25.54919816980707, 108.76808091383886, 113.16136134198929, 34.75951380263444, 72.97514321882831, 18.225103937531753, 28.57179138706005, 86.28400331933136, 47.62945936177623, 60.56731605503029, 23.396564354443782, 14.67556555720845, 61.094474024050356], \"Category\": [\"Default\", \"Default\", \"Default\", \"Default\", \"Default\", \"Default\", \"Default\", \"Default\", \"Default\", \"Default\", \"Default\", \"Default\", \"Default\", \"Default\", \"Default\", \"Default\", \"Default\", \"Default\", \"Default\", \"Default\", \"Default\", \"Default\", \"Default\", \"Default\", \"Default\", \"Default\", \"Default\", \"Default\", \"Default\", \"Default\", \"Topic1\", \"Topic1\", \"Topic1\", \"Topic1\", \"Topic1\", \"Topic1\", \"Topic1\", \"Topic1\", \"Topic1\", \"Topic1\", \"Topic1\", \"Topic1\", \"Topic1\", \"Topic1\", \"Topic1\", \"Topic1\", \"Topic1\", \"Topic1\", \"Topic1\", \"Topic1\", \"Topic1\", \"Topic1\", \"Topic1\", \"Topic1\", \"Topic1\", \"Topic1\", \"Topic1\", \"Topic1\", \"Topic1\", \"Topic1\", \"Topic1\", \"Topic1\", \"Topic1\", \"Topic1\", \"Topic1\", \"Topic1\", \"Topic1\", \"Topic1\", \"Topic1\", \"Topic1\", \"Topic1\", \"Topic1\", \"Topic1\", \"Topic1\", \"Topic1\", \"Topic1\", \"Topic1\", \"Topic1\", \"Topic1\", \"Topic1\", \"Topic1\", \"Topic1\", \"Topic1\", \"Topic1\", \"Topic1\", \"Topic1\", \"Topic1\", \"Topic1\", \"Topic1\", \"Topic2\", \"Topic2\", \"Topic2\", \"Topic2\", \"Topic2\", \"Topic2\", \"Topic2\", \"Topic2\", \"Topic2\", \"Topic2\", \"Topic2\", \"Topic2\", \"Topic2\", \"Topic2\", \"Topic2\", \"Topic2\", \"Topic2\", \"Topic2\", \"Topic2\", \"Topic2\", \"Topic2\", \"Topic2\", \"Topic2\", \"Topic2\", \"Topic2\", \"Topic2\", \"Topic2\", \"Topic2\", \"Topic2\", \"Topic2\", \"Topic2\", \"Topic2\", \"Topic2\", \"Topic2\", \"Topic2\", \"Topic2\", \"Topic2\", \"Topic2\", \"Topic2\", \"Topic2\", \"Topic2\", \"Topic2\", \"Topic2\", \"Topic2\", \"Topic2\", \"Topic2\", \"Topic2\", \"Topic2\", \"Topic2\", \"Topic2\", \"Topic2\", \"Topic2\", \"Topic2\", \"Topic2\", \"Topic2\", \"Topic2\", \"Topic3\", \"Topic3\", \"Topic3\", \"Topic3\", \"Topic3\", \"Topic3\", \"Topic3\", \"Topic3\", \"Topic3\", \"Topic3\", \"Topic3\", \"Topic3\", \"Topic3\", \"Topic3\", \"Topic3\", \"Topic3\", \"Topic3\", \"Topic3\", \"Topic3\", \"Topic3\", \"Topic3\", \"Topic3\", \"Topic3\", \"Topic3\", \"Topic3\", \"Topic3\", \"Topic3\", \"Topic3\", \"Topic3\", \"Topic3\", \"Topic3\", \"Topic3\", \"Topic3\", \"Topic3\", \"Topic3\", \"Topic3\", \"Topic3\", \"Topic3\", \"Topic3\", \"Topic3\", \"Topic3\", \"Topic3\", \"Topic3\", \"Topic3\", \"Topic3\", \"Topic3\", \"Topic3\", \"Topic3\", \"Topic3\", \"Topic3\", \"Topic3\", \"Topic3\"], \"logprob\": [30.0, 29.0, 28.0, 27.0, 26.0, 25.0, 24.0, 23.0, 22.0, 21.0, 20.0, 19.0, 18.0, 17.0, 16.0, 15.0, 14.0, 13.0, 12.0, 11.0, 10.0, 9.0, 8.0, 7.0, 6.0, 5.0, 4.0, 3.0, 2.0, 1.0, -4.9808, -5.0152, -5.3502, -5.588, -5.5878, -5.6818, -5.6818, -5.7332, -5.9006, -5.8637, -5.9255, -6.0311, -5.9713, -6.0785, -5.8228, -5.4138, -5.9446, -6.1217, -6.1669, -6.215, -6.0895, -6.2323, -6.2753, -6.3578, -6.3579, -4.7086, -6.4494, -6.4658, -6.4995, -6.2766, -5.8903, -4.0322, -4.2425, -5.8428, -4.6811, -5.7052, -5.1672, -2.7065, -5.77, -4.635, -4.9973, -4.5229, -5.2783, -5.2209, -4.6324, -4.3606, -4.8027, -4.258, -5.2469, -4.7698, -5.3071, -4.7729, -5.1053, -5.3826, -4.8823, -5.3169, -5.2722, -5.5553, -5.5495, -4.9982, -5.0847, -5.3965, -5.3965, -5.3965, -5.3972, -5.5745, -4.9543, -5.5826, -5.7837, -5.8537, -5.8537, -5.8544, -5.8544, -5.8544, -5.8544, -5.8544, -5.8544, -5.972, -6.0691, -6.0691, -6.0721, -6.119, -6.1516, -6.202, -6.2935, -6.2937, -6.2937, -6.3085, -6.3422, -4.9881, -5.8684, -3.6837, -5.679, -6.0684, -4.5777, -5.4064, -4.7275, -5.3155, -3.3269, -5.0356, -5.4044, -5.3952, -5.3795, -4.6998, -4.5506, -4.9874, -4.9603, -5.2946, -4.9741, -4.9133, -5.0512, -5.4048, -5.391, -5.3915, -5.4058, -4.8706, -5.1452, -5.2044, -5.3759, -5.484, -5.8534, -5.2044, -5.8748, -5.8752, -5.8752, -6.0005, -6.0005, -6.0005, -6.0351, -6.0351, -6.1458, -6.1458, -6.1458, -6.1473, -6.1473, -6.1493, -6.196, -6.2417, -6.3158, -5.6639, -6.3455, -6.4133, -6.4133, -6.4655, -6.4624, -5.4815, -5.8506, -5.2636, -5.3775, -5.2418, -4.5501, -5.7391, -5.2247, -4.0642, -5.4205, -4.8201, -4.9561, -5.4253, -5.2462, -5.7402, -5.6368, -5.4404, -5.6002, -5.5626, -5.7777, -5.8294, -5.8561], \"loglift\": [30.0, 29.0, 28.0, 27.0, 26.0, 25.0, 24.0, 23.0, 22.0, 21.0, 20.0, 19.0, 18.0, 17.0, 16.0, 15.0, 14.0, 13.0, 12.0, 11.0, 10.0, 9.0, 8.0, 7.0, 6.0, 5.0, 4.0, 3.0, 2.0, 1.0, 0.6885, 0.687, 0.6814, 0.6749, 0.6743, 0.672, 0.672, 0.6643, 0.6639, 0.6626, 0.6585, 0.6582, 0.6578, 0.656, 0.6543, 0.6532, 0.6519, 0.6516, 0.6506, 0.6489, 0.6482, 0.648, 0.6455, 0.6405, 0.6404, 0.6351, 0.6345, 0.6333, 0.6309, 0.6277, 0.6276, 0.6081, 0.5748, 0.6205, 0.5615, 0.6127, 0.5705, 0.3563, 0.6123, 0.4976, 0.5251, 0.451, 0.5379, 0.5185, 0.3971, 0.315, 0.3514, 0.186, 0.4462, 0.251, 0.4276, 0.0702, 0.0955, 0.2921, -0.4779, -0.0471, -0.2946, 0.0295, -0.1989, 1.2705, 1.2668, 1.255, 1.255, 1.255, 1.2542, 1.246, 1.2429, 1.2368, 1.2333, 1.2284, 1.2284, 1.2276, 1.2276, 1.2276, 1.2276, 1.2276, 1.2276, 1.2185, 1.2106, 1.2106, 1.2074, 1.2067, 1.2038, 1.1989, 1.1885, 1.1883, 1.1883, 1.1872, 1.1843, 1.1567, 1.1223, 0.7208, 1.0508, 1.1384, 0.7729, 0.9736, 0.7017, 0.852, -0.2641, 0.6214, 0.8044, 0.7789, 0.7637, 0.1433, -0.1065, 0.2824, 0.2405, 0.5981, 0.0035, -0.2377, -0.0304, 0.4818, 0.2926, -0.2373, -0.4319, 1.4201, 1.4107, 1.4083, 1.4002, 1.3951, 1.3712, 1.3702, 1.3686, 1.3682, 1.3682, 1.3592, 1.3592, 1.3592, 1.3561, 1.3561, 1.3456, 1.3456, 1.3456, 1.3442, 1.3442, 1.3424, 1.3399, 1.3345, 1.3273, 1.3261, 1.3233, 1.3154, 1.3154, 1.3087, 1.3084, 1.2946, 1.1869, 1.0217, 1.0081, 0.9368, 0.4274, 0.9954, 0.4118, -1.0013, 0.4721, -0.3761, -0.5517, 0.1595, -0.4031, 0.4903, 0.144, -0.7648, -0.3304, -0.5331, 0.2029, 0.6176, -0.8352]}, \"token.table\": {\"Topic\": [3, 2, 1, 2, 3, 3, 1, 2, 3, 1, 3, 2, 3, 1, 2, 3, 1, 2, 3, 1, 2, 3, 2, 1, 2, 1, 2, 3, 3, 1, 1, 2, 1, 2, 3, 1, 3, 2, 1, 2, 3, 1, 1, 2, 3, 2, 2, 1, 2, 3, 2, 1, 2, 3, 2, 1, 2, 3, 3, 1, 2, 3, 3, 1, 3, 1, 2, 3, 3, 1, 2, 3, 1, 2, 3, 1, 3, 1, 1, 2, 1, 1, 2, 3, 1, 2, 3, 3, 1, 2, 3, 2, 3, 3, 1, 2, 3, 1, 1, 2, 2, 3, 2, 3, 2, 1, 3, 1, 1, 2, 1, 2, 1, 2, 3, 3, 1, 2, 3, 2, 1, 1, 2, 1, 3, 1, 2, 3, 1, 1, 1, 3, 3, 1, 3, 1, 2, 3, 1, 2, 3, 1, 3, 1, 2, 3, 3, 1, 1, 3, 2, 3, 1, 2, 3, 1, 2, 2, 1, 2, 3, 2, 1, 3, 3, 2, 1, 2, 3, 3, 2, 2, 1, 2, 3, 1, 3, 1, 2, 2, 2, 1, 2, 3, 3, 2, 1, 1, 2, 3, 3, 1, 2, 1, 2, 3, 1, 2, 3, 1, 1, 2, 3, 1, 2, 3, 1, 1, 2, 3, 1, 2, 1, 1, 2, 3, 1, 2, 3, 1, 1, 2, 3, 1, 2, 3, 1, 2, 1, 2, 3, 2, 2, 1, 2, 3, 2, 1, 2, 3, 2, 1, 2], \"Freq\": [0.9649932044669454, 0.9590290635932599, 0.9268744771151175, 0.04521338912756671, 0.022606694563783353, 0.8097121240741689, 0.7808771452587513, 0.1717929719569253, 0.046852628715525084, 0.07740700739677826, 0.9288840887613391, 0.9898668002743414, 0.901388616534035, 0.5976017913885053, 0.24823459026907146, 0.16548972684604762, 0.34070237228738787, 0.20442142337243271, 0.40884284674486543, 0.3501565934996638, 0.4279691698329225, 0.19453144083314658, 0.8842923036429963, 0.1456647712164754, 0.8739886272988524, 0.4938243442039256, 0.10973874315642791, 0.38408560104749767, 0.9066063838594891, 0.9869503248756093, 0.05307501430416033, 0.955350257474886, 0.3221792302234109, 0.5906619220762532, 0.05369653837056848, 0.0946868537095037, 0.8521816833855332, 0.9722749946888293, 0.9830784052941283, 0.9400959374669258, 0.8430491762408918, 0.9083423345541989, 0.9494605917016172, 0.9000437655426118, 0.8486465374242829, 0.9590290912622523, 0.9000437655426118, 0.15630408108251942, 0.26050680180419905, 0.5731149639692379, 0.9196364885649967, 0.45447608109874255, 0.181790432439497, 0.363580864878994, 0.9399256258154658, 0.7693897356440549, 0.22440533956284933, 0.03205790565183562, 0.9819656931668552, 0.1274376862757292, 0.7009072745165107, 0.1274376862757292, 0.9468622151256847, 0.9931098131783069, 0.9682209205988003, 0.7687301719122932, 0.167115254763542, 0.10026915285812521, 0.9247935852827529, 0.9376716946205859, 0.8598559697310324, 0.768137536737911, 0.8982039958304773, 0.059880266388698485, 0.9876629740944296, 0.9457954793640746, 0.9819656931668552, 0.9442115280677029, 0.9727171162827476, 0.8898977562708332, 0.9706567979814674, 0.2318688335890646, 0.1159344167945323, 0.6376392923699277, 0.6383556061821126, 0.2618894794593283, 0.0982085547972481, 0.8757772696606032, 0.6411197718074793, 0.08548263624099722, 0.2991892268434903, 0.8214642094316498, 0.1173520299188071, 0.8757772696606032, 0.36053788188522023, 0.26648452139342366, 0.36053788188522023, 0.9304107618829072, 0.9016887994459881, 0.9843623417407252, 0.24594533454258702, 0.737836003627761, 0.8136432145467553, 0.18080960323261228, 0.9196364885649967, 0.9447175476678328, 0.9681166993225587, 0.9636108462004199, 0.8715719462042661, 0.10056599379279994, 0.10073457512592315, 0.8562438885703468, 0.11742051472853146, 0.508822230490303, 0.3914017157617715, 0.8486465496434861, 0.6610046664204778, 0.18885847612013654, 0.1259056507467577, 0.9000437655426118, 0.9704823387738346, 0.9931082666608148, 0.9000437655426118, 0.962830311234198, 0.9065842556015481, 0.6721987595469563, 0.2086134081352623, 0.10430670406763115, 0.946042402533525, 0.9687271177638939, 0.8941891408827565, 0.06387065292019689, 0.9446775098504498, 0.11727335347023343, 0.9381868277618675, 0.7046049191967174, 0.20791620566460514, 0.08547666232878211, 0.3939852549872972, 0.5417297256075336, 0.04924815687341215, 0.9508845371629253, 0.0731449643971481, 0.8581669014581824, 0.020432545272813865, 0.12259527163688319, 0.7707798173653272, 0.9460373001206366, 0.9112359444630981, 0.9682209205988003, 0.8021232205901633, 0.8896927350388917, 0.34999555556495227, 0.34999555556495227, 0.2799964444519618, 0.40974131426153293, 0.5918485650444365, 0.9001409685780097, 0.5081091046217132, 0.34932500942742784, 0.1270272761554283, 0.9908432863529437, 0.9962349667192588, 0.968116908864019, 0.8486467073175946, 0.9400959374669258, 0.32041163983676474, 0.06408232796735294, 0.6408232796735295, 0.9681166352106763, 0.8449862970589695, 0.9637802540659824, 0.3092928503592773, 0.5567271306466991, 0.13255407872540456, 0.9849335008256979, 0.96834814528359, 0.9003015134621875, 0.06925396257401442, 0.96916835185302, 0.9001412851720842, 0.7264644178722143, 0.13208443961312988, 0.13208443961312988, 0.9066063838594891, 0.9195305238780843, 0.9588491422904672, 0.8053892654508167, 0.10982580892511137, 0.07321720595007425, 0.9907109295437132, 0.9319494221093219, 0.046597471105466096, 0.7106887890984823, 0.20572570210745542, 0.07480934622089289, 0.31116693813400786, 0.5704727199123478, 0.10372231271133596, 0.9155777929471106, 0.10057245277981323, 0.6034347166788794, 0.3017173583394397, 0.4618990073537455, 0.35692196022789424, 0.167963275401362, 0.9808646801087288, 0.8813642937454734, 0.05341601780275597, 0.06677002225344496, 0.8339512547173732, 0.14503500082041274, 0.9550092166349603, 0.09083285066019266, 0.272498551980578, 0.6358299546213486, 0.5344285503222913, 0.31517581172853076, 0.15073625778321037, 0.9894405059259711, 0.30922929620941253, 0.49476687393506, 0.18553757772564752, 0.9061591400621575, 0.06712289926386351, 0.02237429975462117, 0.8394871192931957, 0.16789742385863915, 0.10304111718408383, 0.618246703104503, 0.25760279296020955, 0.9000437655426118, 0.9000437655426118, 0.5178438370054467, 0.23015281644686517, 0.2876910205585815, 0.9590432540709055, 0.5486883832661291, 0.3527282463853687, 0.11757608212845623, 0.9196364885649967, 0.8378513393781117, 0.1621647753635055], \"Term\": [\"ag\\u00fcita\", \"ahh\", \"ahora\", \"ahora\", \"ahora\", \"amante\", \"amar\", \"amar\", \"amar\", \"amarillo\", \"amarillo\", \"amarno\", \"americano\", \"amor\", \"amor\", \"amor\", \"aqu\\u00ed\", \"aqu\\u00ed\", \"aqu\\u00ed\", \"as\\u00ed\", \"as\\u00ed\", \"as\\u00ed\", \"atracar\", \"avisar\", \"avisar\", \"ayer\", \"ayer\", \"ayer\", \"ayudar \\u00e9l\", \"a\\u00f1o\", \"bastar\", \"bastar\", \"beso\", \"beso\", \"beso\", \"caer\", \"caer\", \"cambiar yo\", \"caminar\", \"canzone\", \"carajo\", \"carnaval\", \"cerrar\", \"che\", \"chorar\", \"claridad\", \"confusionir\", \"creer\", \"creer\", \"creer\", \"c\\u00e1mara\", \"dar\", \"dar\", \"dar\", \"dar \\u00e9l\", \"decir\", \"decir\", \"decir\", \"definir\", \"dentro\", \"dentro\", \"dentro\", \"desaparecer\", \"devu\\u00e9lveme\", \"dividir\", \"d\\u00eda\", \"d\\u00eda\", \"d\\u00eda\", \"enga\\u00f1ar\", \"entonces\", \"esclavitud\", \"escribir\", \"esperar\", \"esperar\", \"eu\", \"fiesta\", \"fisura\", \"flor\", \"forma\", \"fr\\u00edo\", \"gana\", \"gente\", \"gente\", \"gente\", \"hacer\", \"hacer\", \"hacer\", \"hostil\", \"hoy\", \"hoy\", \"hoy\", \"il\", \"il\", \"inseguro\", \"ir\", \"ir\", \"ir\", \"jama\", \"jam\\u00e1s\", \"juanito\", \"jugar\", \"jugar\", \"junto\", \"junto\", \"lento\", \"libre\", \"lindo\", \"llamar\\u00e1s\", \"llorar\", \"llorar\", \"lluvia\", \"lluvia\", \"luna\", \"luna\", \"luna\", \"maas\", \"mas\", \"mas\", \"mas\", \"matto\", \"ma\\u00f1ana\", \"mintiir\", \"mondo\", \"morir\", \"muralla\", \"m\\u00e1s\", \"m\\u00e1s\", \"m\\u00e1s\", \"m\\u00fasica\", \"nacer\", \"nada\", \"nada\", \"negra\", \"nenir\", \"nenir\", \"no\", \"no\", \"no\", \"noche\", \"noche\", \"noche\", \"nuevo\", \"nuevo\", \"nunca\", \"nunca\", \"nunca\", \"ocultar\", \"or\", \"palabra\", \"parado\", \"parez\", \"parte\", \"pasar\", \"pasar\", \"pasar\", \"pedir\", \"pedir\", \"pelado\", \"pensar\", \"pensar\", \"pensar\", \"perch\\u00e9\", \"perd\\u00f3n\", \"persiana\", \"personal\", \"pi\\u00f9\", \"poner\", \"poner\", \"poner\", \"pra\", \"primavera\", \"puente\", \"querer\", \"querer\", \"querer\", \"querido\", \"resto\", \"robar\", \"robar\", \"rock\", \"rockin\", \"saber\", \"saber\", \"saber\", \"sacar \\u00e9l\", \"sar\\u00e0\", \"seguir\", \"siempre\", \"siempre\", \"siempre\", \"signo\", \"silencio\", \"silencio\", \"solo\", \"solo\", \"solo\", \"sue\\u00f1o\", \"sue\\u00f1o\", \"sue\\u00f1o\", \"sufrir\", \"s\\u00f3lo\", \"s\\u00f3lo\", \"s\\u00f3lo\", \"tanto\", \"tanto\", \"tanto\", \"tarde\", \"tener\", \"tener\", \"tener\", \"tiempo\", \"tiempo\", \"vendr\\u00e1s\", \"venir\", \"venir\", \"venir\", \"ver\", \"ver\", \"ver\", \"verter\", \"vez\", \"vez\", \"vez\", \"vida\", \"vida\", \"vida\", \"vivir\", \"vivir\", \"vo\", \"vo\", \"vo\", \"vola\", \"volo\", \"volver\", \"volver\", \"volver\", \"vuelvo\", \"ya\", \"ya\", \"ya\", \"\\u00e1mame\", \"\\ufffd\", \"\\ufffd\"]}, \"R\": 30, \"lambda.step\": 0.01, \"plot.opts\": {\"xlab\": \"PC1\", \"ylab\": \"PC2\"}, \"topic.order\": [1, 2, 3]};\n",
       "\n",
       "function LDAvis_load_lib(url, callback){\n",
       "  var s = document.createElement('script');\n",
       "  s.src = url;\n",
       "  s.async = true;\n",
       "  s.onreadystatechange = s.onload = callback;\n",
       "  s.onerror = function(){console.warn(\"failed to load library \" + url);};\n",
       "  document.getElementsByTagName(\"head\")[0].appendChild(s);\n",
       "}\n",
       "\n",
       "if(typeof(LDAvis) !== \"undefined\"){\n",
       "   // already loaded: just create the visualization\n",
       "   !function(LDAvis){\n",
       "       new LDAvis(\"#\" + \"ldavis_el773618798160789448201181375\", ldavis_el773618798160789448201181375_data);\n",
       "   }(LDAvis);\n",
       "}else if(typeof define === \"function\" && define.amd){\n",
       "   // require.js is available: use it to load d3/LDAvis\n",
       "   require.config({paths: {d3: \"https://d3js.org/d3.v5\"}});\n",
       "   require([\"d3\"], function(d3){\n",
       "      window.d3 = d3;\n",
       "      LDAvis_load_lib(\"https://cdn.jsdelivr.net/gh/bmabey/pyLDAvis@3.4.0/pyLDAvis/js/ldavis.v3.0.0.js\", function(){\n",
       "        new LDAvis(\"#\" + \"ldavis_el773618798160789448201181375\", ldavis_el773618798160789448201181375_data);\n",
       "      });\n",
       "    });\n",
       "}else{\n",
       "    // require.js not available: dynamically load d3 & LDAvis\n",
       "    LDAvis_load_lib(\"https://d3js.org/d3.v5.js\", function(){\n",
       "         LDAvis_load_lib(\"https://cdn.jsdelivr.net/gh/bmabey/pyLDAvis@3.4.0/pyLDAvis/js/ldavis.v3.0.0.js\", function(){\n",
       "                 new LDAvis(\"#\" + \"ldavis_el773618798160789448201181375\", ldavis_el773618798160789448201181375_data);\n",
       "            })\n",
       "         });\n",
       "}\n",
       "</script>"
      ],
      "text/plain": [
       "PreparedData(topic_coordinates=              x         y  topics  cluster       Freq\n",
       "topic                                                \n",
       "0      0.137756  0.042505       1        1  49.379100\n",
       "1     -0.027006 -0.126131       2        1  27.178369\n",
       "2     -0.110750  0.083626       3        1  23.442531, topic_info=        Term        Freq       Total Category  logprob  loglift\n",
       "43    querer  113.000000  113.000000  Default  30.0000  30.0000\n",
       "104     vida   89.000000   89.000000  Default  29.0000  29.0000\n",
       "2069   signo   17.000000   17.000000  Default  28.0000  28.0000\n",
       "206    pedir   43.000000   43.000000  Default  27.0000  27.0000\n",
       "282   bastar   18.000000   18.000000  Default  26.0000  26.0000\n",
       "...      ...         ...         ...      ...      ...      ...\n",
       "49     tanto    8.023775   47.629459   Topic3  -5.6002  -0.3304\n",
       "213    saber    8.331550   60.567316   Topic3  -5.5626  -0.5331\n",
       "149      hoy    6.718599   23.396564   Topic3  -5.7777   0.2029\n",
       "240     aquí    6.380291   14.675566   Topic3  -5.8294   0.6176\n",
       "24     hacer    6.212545   61.094474   Topic3  -5.8561  -0.8352\n",
       "\n",
       "[197 rows x 6 columns], token_table=      Topic      Freq    Term\n",
       "term                         \n",
       "1583      3  0.964993  agüita\n",
       "337       2  0.959029     ahh\n",
       "63        1  0.926874   ahora\n",
       "63        2  0.045213   ahora\n",
       "63        3  0.022607   ahora\n",
       "...     ...       ...     ...\n",
       "61        2  0.352728      ya\n",
       "61        3  0.117576      ya\n",
       "2354      2  0.919636   ámame\n",
       "2111      1  0.837851       �\n",
       "2111      2  0.162165       �\n",
       "\n",
       "[243 rows x 3 columns], R=30, lambda_step=0.01, plot_opts={'xlab': 'PC1', 'ylab': 'PC2'}, topic_order=[1, 2, 3])"
      ]
     },
     "execution_count": 27,
     "metadata": {},
     "output_type": "execute_result"
    }
   ],
   "source": [
    "pyLDAvis.enable_notebook()\n",
    "vis = pyLDAvis.gensim.prepare(lda_model, corpus, id2word)\n",
    "vis"
   ]
  }
 ],
 "metadata": {
  "kernelspec": {
   "display_name": ".venv",
   "language": "python",
   "name": "python3"
  },
  "language_info": {
   "codemirror_mode": {
    "name": "ipython",
    "version": 3
   },
   "file_extension": ".py",
   "mimetype": "text/x-python",
   "name": "python",
   "nbconvert_exporter": "python",
   "pygments_lexer": "ipython3",
   "version": "3.11.1"
  }
 },
 "nbformat": 4,
 "nbformat_minor": 5
}
